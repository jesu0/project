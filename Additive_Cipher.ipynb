{
  "nbformat": 4,
  "nbformat_minor": 0,
  "metadata": {
    "colab": {
      "name": "Additive Cipher.ipynb",
      "provenance": [],
      "collapsed_sections": [],
      "mount_file_id": "1Haz-uEj4qHI1rQ6l7HuDhKybYnB2pS0A",
      "authorship_tag": "ABX9TyP6sQi97xC573usDpNWPCz0",
      "include_colab_link": true
    },
    "kernelspec": {
      "name": "python3",
      "display_name": "Python 3"
    },
    "language_info": {
      "name": "python"
    }
  },
  "cells": [
    {
      "cell_type": "markdown",
      "metadata": {
        "id": "view-in-github",
        "colab_type": "text"
      },
      "source": [
        "<a href=\"https://colab.research.google.com/github/jesu0/project/blob/main/Additive_Cipher.ipynb\" target=\"_parent\"><img src=\"https://colab.research.google.com/assets/colab-badge.svg\" alt=\"Open In Colab\"/></a>"
      ]
    },
    {
      "cell_type": "code",
      "execution_count": 2,
      "metadata": {
        "colab": {
          "base_uri": "https://localhost:8080/"
        },
        "id": "csFyB9l2TLq9",
        "outputId": "4eb850d6-6027-4481-9932-e7e33b2601ba"
      },
      "outputs": [
        {
          "output_type": "stream",
          "name": "stdout",
          "text": [
            "Hacking key #25: HJFXJWrHNUMJWrIJRT\n"
          ]
        }
      ],
      "source": [
        "message = 'GIEWIVrGMTLIVrHIQS' \n",
        "LETTERS = 'ABCDEFGHIJKLMNOPQRSTUVWXYZ'\n",
        "\n",
        "for key in range(len(LETTERS)):\n",
        "   translated = ''\n",
        "   for symbol in message:\n",
        "      if symbol in LETTERS:\n",
        "         num = LETTERS.find(symbol)\n",
        "         num = num - key\n",
        "         if num < 0:\n",
        "            num = num + len(LETTERS)\n",
        "         translated = translated + LETTERS[num]\n",
        "      else:\n",
        "         translated = translated + symbol\n",
        "print('Hacking key #%s: %s' % (key, translated))\n"
      ]
    }
  ]
}